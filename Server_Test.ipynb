{
 "cells": [
  {
   "cell_type": "markdown",
   "id": "5b7dbe5a",
   "metadata": {},
   "source": [
    "## Programa original en partes"
   ]
  },
  {
   "cell_type": "code",
   "execution_count": null,
   "id": "70d8ee29",
   "metadata": {},
   "outputs": [],
   "source": [
    "import socket\n",
    "import threading\n",
    "import os"
   ]
  },
  {
   "cell_type": "code",
   "execution_count": null,
   "id": "058724ce",
   "metadata": {},
   "outputs": [],
   "source": [
    "HEADER             = 64 # Tamaño del packete\n",
    "PORT               = 3074\n",
    "SERVER             = '201.239.241.129' # '158.251.91.68'\n",
    "ADDR               = (SERVER, PORT)\n",
    "FORTMAT            = 'utf-8'\n",
    "DISCONNECT_MESSAGE = 'DISCONECT!'"
   ]
  },
  {
   "cell_type": "code",
   "execution_count": null,
   "id": "fc5ecdb2",
   "metadata": {},
   "outputs": [],
   "source": [
    "# creación socket (Tipo IP de Socket: IPV$, Tipo de Socket: STREAM)\n",
    "server = socket.socket(socket.AF_INET, socket.SOCK_STREAM) "
   ]
  },
  {
   "cell_type": "code",
   "execution_count": null,
   "id": "56f270d5",
   "metadata": {},
   "outputs": [],
   "source": [
    "# método para asociar socket con ip del server y su puerto\n",
    "server.bind(ADDR)"
   ]
  },
  {
   "cell_type": "code",
   "execution_count": null,
   "id": "5cadd504",
   "metadata": {},
   "outputs": [],
   "source": [
    "# Función para manejar multiples conexión en múltiples hilos del procesador\n",
    "def handle_client(conn, addr):\n",
    "    print(f\"[NEW CONNECTION] {addr} connected\")\n",
    "    connected  = True\n",
    "    while connected\n",
    "        msg_length = conn.recv(HEADER).decode(FORMAT)\n",
    "        if msg_length:\n",
    "            msg_length = int(msg_length)\n",
    "            msg        = conn.recv(msg_length).decode(FORMAT)\n",
    "            if msg = DISCONNECT_MESSAGE:\n",
    "                connected = False\n",
    "        \n",
    "        print(f\"[{addr} {msg}]\")\n",
    "        conn.sens(\"Mensaje recivido\".encode(FORMAT))\n",
    "\n",
    "# Función que escucha y recibe conexiones para ejecutar handle_client\n",
    "def start():\n",
    "    server.listen()\n",
    "    print(\"[LISTEN] Server is listening on address {ADDR}\")\n",
    "    while True:\n",
    "        conn, addr = server.accept() # devuelve el socket dodne mantiene la conexión junto con su address.\n",
    "        thread     = threading.Thread(target=handle_client, args=(conn, addr))\n",
    "        thread.start()\n",
    "        print(f\"[ACTIVE CONNECTIONS] {threadind.activeCount() - 1}\")\n",
    "        "
   ]
  },
  {
   "cell_type": "code",
   "execution_count": null,
   "id": "1acbb6fb",
   "metadata": {},
   "outputs": [],
   "source": [
    "print(\"[STARTING] server is running\")\n",
    "start()"
   ]
  },
  {
   "cell_type": "markdown",
   "id": "3d62ba46",
   "metadata": {},
   "source": [
    "## Otros comandos útiles"
   ]
  },
  {
   "cell_type": "code",
   "execution_count": null,
   "id": "5e3d5785",
   "metadata": {},
   "outputs": [],
   "source": [
    "# Saber ip global\n",
    "osip = os.popen('curl ifconfig.me').readline()\n",
    "print(osip)"
   ]
  },
  {
   "cell_type": "code",
   "execution_count": null,
   "id": "674ad3b5",
   "metadata": {},
   "outputs": [],
   "source": []
  },
  {
   "cell_type": "code",
   "execution_count": null,
   "id": "92cc5418",
   "metadata": {},
   "outputs": [],
   "source": []
  },
  {
   "cell_type": "markdown",
   "id": "8ef4be3e",
   "metadata": {},
   "source": [
    "## Programa modioficado completo"
   ]
  },
  {
   "cell_type": "code",
   "execution_count": null,
   "id": "b546aa3f",
   "metadata": {},
   "outputs": [],
   "source": [
    "import socket\n",
    "import threading\n",
    "\n",
    "HEADER             = 64\n",
    "PORT               = 3074\n",
    "SERVER             = 'localhost'\n",
    "ADDR               = (SERVER, PORT)\n",
    "FORMAT             = 'utf-8'\n",
    "DISCONNECT_MESSAGE = 'DISCONNECT!'\n",
    "server             = socket.socket(socket.AF_INET, socket.SOCK_STREAM)\n",
    "FAKE_MAC           = '6B-4E-4D-27-E1-F0'\n",
    "FIRST_MSG          = 0\n",
    "connected          = True\n",
    "\n",
    "server.bind(ADDR)\n",
    "\n",
    "def handle_client(conn, addr):\n",
    "    print(f\"[NEW CONNECTION] {addr} connected.\")\n",
    "    connected = True\n",
    "    global FIRST_MSG\n",
    "    while connected:\n",
    "        msg_length = conn.recv(HEADER).decode(FORMAT)\n",
    "        if msg_length:\n",
    "            msg_length = int(msg_length)\n",
    "            msg        = conn.recv(msg_length).decode(FORMAT)\n",
    "            handshake_status = handshake_routine(conn, msg)\n",
    "            if (msg == DISCONNECT_MESSAGE or handshake_status):\n",
    "                connected = False\n",
    "                conn.send(\"Disconnected\".encode(FORMAT))\n",
    "            if connected:\n",
    "                print(f\"[{addr}] {msg}\")\n",
    "                conn.send(\"Msg received\".encode(FORMAT))\n",
    "\n",
    "    conn.close()\n",
    "\n",
    "def handshake_routine(conn, msg_recv):\n",
    "    global FIRST_MSG\n",
    "    if msg_recv == FAKE_MAC:   \n",
    "        conn.send(\"Connection accepted, welcome fine sir \".encode(FORMAT))\n",
    "        FIRST_MSG = 1\n",
    "        return False\n",
    "    if FIRST_MSG == 0:\n",
    "        conn.send(\"Connection refused, you're not allowed in this fine server sir \".encode(FORMAT))\n",
    "        return True\n",
    "\n",
    "def start():\n",
    "    server.listen()\n",
    "    print(f\"[LISTEN] Server is listening on address {ADDR}\")\n",
    "    while True:\n",
    "        conn, addr = server.accept()\n",
    "        thread     = threading.Thread(target=handle_client, args=(conn, addr))\n",
    "        thread.start()\n",
    "        print(f\"[ACTIVE CONNECTIONS] {threading.activeCount() - 1}\")\n",
    "\n",
    "print(\"[STARTING] server is running.....\")\n",
    "start()\n"
   ]
  },
  {
   "cell_type": "code",
   "execution_count": null,
   "id": "efaad34c",
   "metadata": {},
   "outputs": [],
   "source": []
  }
 ],
 "metadata": {
  "kernelspec": {
   "display_name": "Python 3",
   "language": "python",
   "name": "python3"
  },
  "language_info": {
   "codemirror_mode": {
    "name": "ipython",
    "version": 3
   },
   "file_extension": ".py",
   "mimetype": "text/x-python",
   "name": "python",
   "nbconvert_exporter": "python",
   "pygments_lexer": "ipython3",
   "version": "3.8.8"
  }
 },
 "nbformat": 4,
 "nbformat_minor": 5
}
