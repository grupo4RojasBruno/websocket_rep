{
 "cells": [
  {
   "cell_type": "markdown",
   "id": "d099fbf0",
   "metadata": {},
   "source": [
    "## Programa originalen partes"
   ]
  },
  {
   "cell_type": "code",
   "execution_count": null,
   "id": "526e036a",
   "metadata": {},
   "outputs": [],
   "source": [
    "import socket\n",
    "import threading\n",
    "import os"
   ]
  },
  {
   "cell_type": "code",
   "execution_count": null,
   "id": "a404deb9",
   "metadata": {},
   "outputs": [],
   "source": [
    "HEADER             = 64 # Tamaño del packete\n",
    "PORT               = 3074\n",
    "SERVER             = '158.251.91.68'\n",
    "ADDR               = (SERVER, PORT)\n",
    "FORTMAT            = 'utf-8'\n",
    "DISCONNECT_MESSAGE = 'DISCONECT!'"
   ]
  },
  {
   "cell_type": "code",
   "execution_count": null,
   "id": "f79ae0a6",
   "metadata": {},
   "outputs": [],
   "source": [
    "# creación socket (Tipo IP de Socket: IPV$, Tipo de Socket: STREAM)\n",
    "client = socket.socket(socket.AF_INET, socket.SOCK_STREAM) "
   ]
  },
  {
   "cell_type": "code",
   "execution_count": null,
   "id": "6415f296",
   "metadata": {},
   "outputs": [],
   "source": [
    "# Conectar al server\n",
    "client.connect(ADDR)"
   ]
  },
  {
   "cell_type": "code",
   "execution_count": null,
   "id": "2487076a",
   "metadata": {},
   "outputs": [],
   "source": [
    "# Función para mandar mensages\n",
    "def send(msg):\n",
    "    message      = msg.encode(FORMAT)             # codificar mensaje\n",
    "    msg_length   = len(message)                   #\n",
    "    send_length  = str(msg_length).encode(FORMAT) # enviar largo del mensaje en fromato utf-8\n",
    "    send_length += b''*(HEADER-len(send_length))  # dejar mensaje en largo correspondiente\n",
    "    \n",
    "    client.send(send_length)\n",
    "    client.send(message)\n",
    "    print(client.recv(2048).decode(FORMAT))"
   ]
  },
  {
   "cell_type": "code",
   "execution_count": null,
   "id": "5497fc7e",
   "metadata": {},
   "outputs": [],
   "source": [
    "send('hello')\n",
    "input()\n",
    "send('asdfasdf')\n",
    "input()\n",
    "send(DISCONNECT_MESSAGE)"
   ]
  },
  {
   "cell_type": "markdown",
   "id": "6212b222",
   "metadata": {},
   "source": [
    "## Programa modificado completo"
   ]
  },
  {
   "cell_type": "code",
   "execution_count": 1,
   "id": "bb3f8918",
   "metadata": {},
   "outputs": [],
   "source": [
    "import socket\n",
    "import time\n",
    "\n",
    "HEADER             = 64\n",
    "PORT               = 3074\n",
    "SERVER             = 'localhost'\n",
    "ADDR               = (SERVER, PORT)\n",
    "FORMAT             = 'utf-8'\n",
    "DISCONNECT_MESSAGE = 'DISCONNECT!'\n",
    "FAKE_MAC           = '6B-4E-4D-27-E1-F0'\n",
    "\n",
    "client = socket.socket(socket.AF_INET, socket.SOCK_STREAM)\n",
    "\n",
    "client.connect(ADDR)\n",
    "\n",
    "def send(msg):\n",
    "    message      = msg.encode(FORMAT)\n",
    "    msg_length   = len(message)\n",
    "    send_length  = str(msg_length).encode(FORMAT)\n",
    "    send_length += b' '*(HEADER-len(send_length))\n",
    "    client.send(send_length)\n",
    "    client.send(message)\n",
    "    print(client.recv(2048).decode(FORMAT))"
   ]
  },
  {
   "cell_type": "code",
   "execution_count": null,
   "id": "644311d2",
   "metadata": {},
   "outputs": [],
   "source": [
    "send(FAKE_MAC)"
   ]
  },
  {
   "cell_type": "code",
   "execution_count": 2,
   "id": "5f79973b",
   "metadata": {},
   "outputs": [
    {
     "name": "stdout",
     "output_type": "stream",
     "text": [
      "Connection refused, you're not allowed in this fine server sir \n"
     ]
    }
   ],
   "source": [
    "send('asdfasdf')"
   ]
  },
  {
   "cell_type": "code",
   "execution_count": null,
   "id": "67c94b6e",
   "metadata": {},
   "outputs": [],
   "source": [
    "send(DISCONNECT_MESSAGE)"
   ]
  },
  {
   "cell_type": "code",
   "execution_count": null,
   "id": "437917e6",
   "metadata": {},
   "outputs": [],
   "source": []
  }
 ],
 "metadata": {
  "kernelspec": {
   "display_name": "Python 3",
   "language": "python",
   "name": "python3"
  },
  "language_info": {
   "codemirror_mode": {
    "name": "ipython",
    "version": 3
   },
   "file_extension": ".py",
   "mimetype": "text/x-python",
   "name": "python",
   "nbconvert_exporter": "python",
   "pygments_lexer": "ipython3",
   "version": "3.8.8"
  }
 },
 "nbformat": 4,
 "nbformat_minor": 5
}
